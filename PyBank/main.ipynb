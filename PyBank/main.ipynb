{
 "cells": [
  {
   "cell_type": "code",
   "execution_count": 1,
   "id": "serial-blond",
   "metadata": {},
   "outputs": [],
   "source": [
    "# Analyze to calculate total months, net total P/L, avg monthly P/L, greatest increase & decrease in profit instances"
   ]
  },
  {
   "cell_type": "code",
   "execution_count": 2,
   "id": "mental-lecture",
   "metadata": {},
   "outputs": [],
   "source": [
    "# 1) import data 2) create calcs"
   ]
  },
  {
   "cell_type": "code",
   "execution_count": 1,
   "id": "ahead-reform",
   "metadata": {},
   "outputs": [],
   "source": [
    "# Import pathlib and csv libraries\n",
    "from pathlib import Path\n",
    "import csv "
   ]
  },
  {
   "cell_type": "code",
   "execution_count": 2,
   "id": "dedicated-farming",
   "metadata": {},
   "outputs": [],
   "source": [
    "# Set Path\n",
    "csvpath = Path(\"Resources/budget_data.csv\")\n"
   ]
  },
  {
   "cell_type": "code",
   "execution_count": 3,
   "id": "mysterious-thickness",
   "metadata": {},
   "outputs": [
    {
     "name": "stdout",
     "output_type": "stream",
     "text": [
      "['Date', 'Profit/Losses']\n"
     ]
    }
   ],
   "source": [
    "#prev_PL is needed for change_PL to calculate correctly\n",
    "#change_PL is sum of changes in PL over the months, after loop it will be the running sum of changes\n",
    "prev_PL = 0 \n",
    "PL = 0\n",
    "change_PL = 0\n",
    "avg_change_PL = 0\n",
    "max_month_PL = 0\n",
    "min_month_PL = 0\n",
    "total_change_PL = 0\n",
    "\n",
    "#open csv \n",
    "with open(csvpath, \"r\") as csvfile:\n",
    "    #telling csvreader how to read the file\n",
    "    csvreader = csv.reader(csvfile, delimiter=\",\")\n",
    "    \n",
    "    #To read the feature descriptors\n",
    "    csv_header = next(csvreader)\n",
    "    print(csv_header)\n",
    "    \n",
    "    # Set up the base totals for months and P/L\n",
    "    net_total_PL = 0\n",
    "    total_months = 0\n",
    "    \n",
    "    for row in csvreader:\n",
    "        #print(row)\n",
    "        PL = int(row[1])\n",
    "        net_total_PL += PL\n",
    "        total_months += 1\n",
    "        \n",
    "        if prev_PL == 0:\n",
    "            change_PL = PL\n",
    "        else:\n",
    "            change_PL = PL - prev_PL\n",
    "        prev_PL = PL\n",
    "        total_change_PL += change_PL\n",
    "        \n",
    "        #determine max and min\n",
    "        if min_month_PL == 0:\n",
    "            min_month_PL = PL\n",
    "        elif PL > max_month_PL:\n",
    "            max_month_PL = PL\n",
    "        elif PL < min_month_PL:\n",
    "            min_month_PL = PL\n"
   ]
  },
  {
   "cell_type": "code",
   "execution_count": 4,
   "id": "internal-amendment",
   "metadata": {},
   "outputs": [
    {
     "name": "stdout",
     "output_type": "stream",
     "text": [
      "86\n",
      "38382578\n",
      "7895.282352941176\n",
      "-1196225\n",
      "1170593\n"
     ]
    }
   ],
   "source": [
    "# for loop to iterate thru data and update running values for each variable\n",
    "#PL is Profit-Loss\n",
    "\n",
    "#avg change in monthly PL\n",
    "#avg_dPL = sum_dPL/(total_months - 1)\n",
    "avg_change_PL = total_change_PL / (total_months - 1)\n",
    "#print(avg_change_PL)\n",
    "print(total_months)\n",
    "print(net_total_PL)\n",
    "print(avg_change_PL)\n",
    "print(min_month_PL)\n",
    "print(max_month_PL)"
   ]
  },
  {
   "cell_type": "code",
   "execution_count": 5,
   "id": "juvenile-boutique",
   "metadata": {},
   "outputs": [],
   "source": [
    " with open(\"./analysis.txt\",\"w\") as file:\n",
    "    header = \"Financial Analysis \\n\"\n",
    "    sep = \"------------------------------\\n\"\n",
    "    months = \"Total Months: \" + str(total_months)\n",
    "    total = \"\\nNet Profit/Loss: \" + str(net_total_PL) \n",
    "    avg_dPL = \"\\nAverage Change: \" + str(avg_change_PL)\n",
    "    max_PL = \"\\nGreatest Increase in Profits: \" + str(max_month_PL)\n",
    "    min_PL = \"\\nGreatest Decrease in Profits: \" + str(min_month_PL)\n",
    "    \n",
    "    file.write(header)\n",
    "    file.write(sep)\n",
    "    file.write(months)\n",
    "    file.write(total)\n",
    "    file.write(avg_dPL)\n",
    "    file.write(max_PL)\n",
    "    file.write(min_PL)\n"
   ]
  },
  {
   "cell_type": "code",
   "execution_count": 6,
   "id": "fuzzy-maine",
   "metadata": {},
   "outputs": [
    {
     "name": "stdout",
     "output_type": "stream",
     "text": [
      "Financial Analysis \n",
      " ------------------------------\n",
      " Total Months: 86 \n",
      "Net Profit/Loss: 38382578 \n",
      "Average Change: 7895.282352941176 \n",
      "Greatest Increase in Profits: 1170593 \n",
      "Greatest Decrease in Profits: -1196225\n"
     ]
    }
   ],
   "source": [
    "print(header, sep, months, total, avg_dPL, max_PL, min_PL)"
   ]
  },
  {
   "cell_type": "code",
   "execution_count": null,
   "id": "decreased-adelaide",
   "metadata": {},
   "outputs": [],
   "source": []
  }
 ],
 "metadata": {
  "kernelspec": {
   "display_name": "Python 3",
   "language": "python",
   "name": "python3"
  },
  "language_info": {
   "codemirror_mode": {
    "name": "ipython",
    "version": 3
   },
   "file_extension": ".py",
   "mimetype": "text/x-python",
   "name": "python",
   "nbconvert_exporter": "python",
   "pygments_lexer": "ipython3",
   "version": "3.8.5"
  }
 },
 "nbformat": 4,
 "nbformat_minor": 5
}
